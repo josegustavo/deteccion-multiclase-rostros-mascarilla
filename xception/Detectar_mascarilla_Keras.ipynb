{
 "cells": [
  {
   "cell_type": "markdown",
   "id": "ouxe1VtXNFkK",
   "metadata": {
    "id": "ouxe1VtXNFkK"
   },
   "source": [
    "Importar las librerías necesarias"
   ]
  },
  {
   "cell_type": "code",
   "execution_count": 20,
   "id": "62f2fdbd",
   "metadata": {
    "execution": {
     "iopub.execute_input": "2022-07-03T06:47:03.074419Z",
     "iopub.status.busy": "2022-07-03T06:47:03.074050Z",
     "iopub.status.idle": "2022-07-03T06:47:03.081327Z",
     "shell.execute_reply": "2022-07-03T06:47:03.080264Z",
     "shell.execute_reply.started": "2022-07-03T06:47:03.074375Z"
    },
    "id": "62f2fdbd"
   },
   "outputs": [],
   "source": [
    "import os\n",
    "import numpy as np\n",
    "import pandas as pd\n",
    "from tensorflow.keras.preprocessing.image import ImageDataGenerator\n",
    "\n",
    "from tensorflow.keras.layers import Dense,Conv2D,MaxPooling2D,Add, Flatten, Dense, AveragePooling2D, Dropout\n",
    "from tensorflow.keras import layers\n",
    "import tensorflow as tf\n",
    "from tensorflow.keras.optimizers import Adam\n",
    "from tensorflow import keras\n",
    "from tensorflow.keras import Sequential\n",
    "\n",
    "from tensorflow.keras.preprocessing.image import load_img\n",
    "from tensorflow.keras.preprocessing.image import img_to_array\n",
    "\n",
    "import matplotlib.pyplot as plt\n"
   ]
  },
  {
   "cell_type": "markdown",
   "id": "QI2oSs-1NPu7",
   "metadata": {
    "id": "QI2oSs-1NPu7"
   },
   "source": [
    "Montar el dataset alojado en Google Drive y descomprimirlo para usar la data"
   ]
  },
  {
   "cell_type": "code",
   "execution_count": 21,
   "id": "31Gvj3ZUM5iG",
   "metadata": {
    "colab": {
     "base_uri": "https://localhost:8080/"
    },
    "execution": {
     "iopub.execute_input": "2022-07-03T06:47:03.083486Z",
     "iopub.status.busy": "2022-07-03T06:47:03.083212Z",
     "iopub.status.idle": "2022-07-03T06:47:04.520970Z",
     "shell.execute_reply": "2022-07-03T06:47:04.519903Z",
     "shell.execute_reply.started": "2022-07-03T06:47:03.083460Z"
    },
    "id": "31Gvj3ZUM5iG",
    "outputId": "243ecc1f-dcd3-4488-b30c-186fba95c1bb"
   },
   "outputs": [
    {
     "name": "stdout",
     "output_type": "stream",
     "text": [
      "SIMPLE-20220701T152021Z-001.zip\n",
      "incorrect_mask\twith_mask  without_mask\n"
     ]
    }
   ],
   "source": [
    "#from google.colab import drive\n",
    "#drive.mount('/content/drive', force_remount=True)\n",
    "#!ls \"/content/drive/MyDrive/VISIÓN ARTIFICIAL/SIMPLE\"\n",
    "!ls \"/datasets/face-mask-data2\"\n",
    "#!unzip /datasets/face-mask-data2/SIMPLE-20220701T152021Z-001.zip\n",
    "!ls /notebooks/SIMPLE\n"
   ]
  },
  {
   "cell_type": "markdown",
   "id": "96d0add7-5d4e-427a-8e65-5a9b975afdf5",
   "metadata": {},
   "source": [
    "Definiión de algunos parámetros generales para entrenamiento"
   ]
  },
  {
   "cell_type": "code",
   "execution_count": 22,
   "id": "90c688d9-fdb4-4192-9280-bc5edac4f26f",
   "metadata": {
    "execution": {
     "iopub.execute_input": "2022-07-03T06:47:04.522690Z",
     "iopub.status.busy": "2022-07-03T06:47:04.522473Z",
     "iopub.status.idle": "2022-07-03T06:47:04.528390Z",
     "shell.execute_reply": "2022-07-03T06:47:04.526943Z",
     "shell.execute_reply.started": "2022-07-03T06:47:04.522657Z"
    }
   },
   "outputs": [],
   "source": [
    "target_size = (224, 224)\n",
    "batch_size = 32\n",
    "epochs = 25"
   ]
  },
  {
   "cell_type": "markdown",
   "id": "bdcd2615-a305-453d-aa6e-299f76681787",
   "metadata": {},
   "source": [
    "Leer el dataaset separándo la data de entrenamiento y validación"
   ]
  },
  {
   "cell_type": "code",
   "execution_count": 23,
   "id": "7f44aa58",
   "metadata": {
    "colab": {
     "base_uri": "https://localhost:8080/"
    },
    "execution": {
     "iopub.execute_input": "2022-07-03T06:47:04.529721Z",
     "iopub.status.busy": "2022-07-03T06:47:04.529543Z",
     "iopub.status.idle": "2022-07-03T06:47:04.596555Z",
     "shell.execute_reply": "2022-07-03T06:47:04.595637Z",
     "shell.execute_reply.started": "2022-07-03T06:47:04.529699Z"
    },
    "id": "7f44aa58",
    "outputId": "7ad77b62-0251-4952-af08-40d76149cda3"
   },
   "outputs": [
    {
     "name": "stdout",
     "output_type": "stream",
     "text": [
      "Found 1259 images belonging to 3 classes.\n",
      "Found 539 images belonging to 3 classes.\n"
     ]
    },
    {
     "data": {
      "text/plain": [
       "{0: 'incorrect_mask', 1: 'with_mask', 2: 'without_mask'}"
      ]
     },
     "execution_count": 23,
     "metadata": {},
     "output_type": "execute_result"
    }
   ],
   "source": [
    "train_dir = '/notebooks/SIMPLE'\n",
    "datagenerator = ImageDataGenerator(\n",
    "    #rescale=1.0 / 255, \n",
    "    #horizontal_flip=True, \n",
    "    zoom_range=0.01, \n",
    "    shear_range=0.25, \n",
    "    validation_split=0.30\n",
    ")\n",
    "\n",
    "train_dataset = datagenerator.flow_from_directory(\n",
    "    directory=train_dir,\n",
    "    target_size=target_size,\n",
    "    batch_size=batch_size,\n",
    "    class_mode='categorical',\n",
    "    subset='training') # set as training data\n",
    "\n",
    "validation_dataset = datagenerator.flow_from_directory(\n",
    "    directory=train_dir, # same directory as training data\n",
    "    target_size=target_size,\n",
    "    batch_size=batch_size,\n",
    "    class_mode='categorical',\n",
    "    subset='validation') # set as validation data\n",
    "\n",
    "mask_labels = {v: k for k, v in train_dataset.class_indices.items()}\n",
    "mask_labels"
   ]
  },
  {
   "cell_type": "markdown",
   "id": "71bd46de-3e8a-4861-a287-ba47bc88b4fa",
   "metadata": {},
   "source": [
    "Crear el modelo usando transfer learning de Xception"
   ]
  },
  {
   "cell_type": "code",
   "execution_count": 24,
   "id": "66b01e2d",
   "metadata": {
    "colab": {
     "base_uri": "https://localhost:8080/"
    },
    "execution": {
     "iopub.execute_input": "2022-07-03T06:47:04.598692Z",
     "iopub.status.busy": "2022-07-03T06:47:04.598505Z",
     "iopub.status.idle": "2022-07-03T06:47:07.566347Z",
     "shell.execute_reply": "2022-07-03T06:47:07.565675Z",
     "shell.execute_reply.started": "2022-07-03T06:47:04.598668Z"
    },
    "id": "66b01e2d",
    "outputId": "e129ec3e-8656-4a53-fb72-8b7adb2b284f"
   },
   "outputs": [
    {
     "name": "stderr",
     "output_type": "stream",
     "text": [
      "2022-07-03 06:47:04.643669: I tensorflow/stream_executor/cuda/cuda_gpu_executor.cc:1052] successful NUMA node read from SysFS had negative value (-1), but there must be at least one NUMA node, so returning NUMA node zero\n",
      "2022-07-03 06:47:04.692100: I tensorflow/stream_executor/cuda/cuda_gpu_executor.cc:1052] successful NUMA node read from SysFS had negative value (-1), but there must be at least one NUMA node, so returning NUMA node zero\n",
      "2022-07-03 06:47:04.692619: I tensorflow/stream_executor/cuda/cuda_gpu_executor.cc:1052] successful NUMA node read from SysFS had negative value (-1), but there must be at least one NUMA node, so returning NUMA node zero\n",
      "2022-07-03 06:47:04.695138: I tensorflow/stream_executor/cuda/cuda_gpu_executor.cc:1052] successful NUMA node read from SysFS had negative value (-1), but there must be at least one NUMA node, so returning NUMA node zero\n",
      "2022-07-03 06:47:04.695654: I tensorflow/stream_executor/cuda/cuda_gpu_executor.cc:1052] successful NUMA node read from SysFS had negative value (-1), but there must be at least one NUMA node, so returning NUMA node zero\n",
      "2022-07-03 06:47:04.695993: I tensorflow/stream_executor/cuda/cuda_gpu_executor.cc:1052] successful NUMA node read from SysFS had negative value (-1), but there must be at least one NUMA node, so returning NUMA node zero\n",
      "2022-07-03 06:47:05.486522: I tensorflow/stream_executor/cuda/cuda_gpu_executor.cc:1052] successful NUMA node read from SysFS had negative value (-1), but there must be at least one NUMA node, so returning NUMA node zero\n",
      "2022-07-03 06:47:05.486885: I tensorflow/stream_executor/cuda/cuda_gpu_executor.cc:1052] successful NUMA node read from SysFS had negative value (-1), but there must be at least one NUMA node, so returning NUMA node zero\n",
      "2022-07-03 06:47:05.487111: I tensorflow/stream_executor/cuda/cuda_gpu_executor.cc:1052] successful NUMA node read from SysFS had negative value (-1), but there must be at least one NUMA node, so returning NUMA node zero\n",
      "2022-07-03 06:47:05.487347: I tensorflow/core/common_runtime/gpu/gpu_device.cc:1525] Created device /job:localhost/replica:0/task:0/device:GPU:0 with 7275 MB memory:  -> device: 0, name: Quadro M4000, pci bus id: 0000:00:05.0, compute capability: 5.2\n"
     ]
    },
    {
     "name": "stdout",
     "output_type": "stream",
     "text": [
      "Model: \"model\"\n",
      "_________________________________________________________________\n",
      " Layer (type)                Output Shape              Param #   \n",
      "=================================================================\n",
      " input_2 (InputLayer)        [(None, 224, 224, 3)]     0         \n",
      "                                                                 \n",
      " sequential (Sequential)     (None, 224, 224, 3)       0         \n",
      "                                                                 \n",
      " rescaling (Rescaling)       (None, 224, 224, 3)       0         \n",
      "                                                                 \n",
      " xception (Functional)       (None, 7, 7, 2048)        20861480  \n",
      "                                                                 \n",
      " average_pooling2d (AverageP  (None, 1, 1, 2048)       0         \n",
      " ooling2D)                                                       \n",
      "                                                                 \n",
      " flatten (Flatten)           (None, 2048)              0         \n",
      "                                                                 \n",
      " dense (Dense)               (None, 128)               262272    \n",
      "                                                                 \n",
      " dropout (Dropout)           (None, 128)               0         \n",
      "                                                                 \n",
      " dense_1 (Dense)             (None, 128)               16512     \n",
      "                                                                 \n",
      " dense_2 (Dense)             (None, 3)                 387       \n",
      "                                                                 \n",
      "=================================================================\n",
      "Total params: 21,140,651\n",
      "Trainable params: 279,171\n",
      "Non-trainable params: 20,861,480\n",
      "_________________________________________________________________\n"
     ]
    }
   ],
   "source": [
    "class FixedMean(tf.keras.metrics.Mean):\n",
    "    def update_state(self, y_true, y_pred, sample_weight=None):\n",
    "        super().update_state(y_pred, sample_weight=sample_weight)\n",
    "        \n",
    "data_augmentation = keras.Sequential(\n",
    "    [layers.RandomFlip(\"horizontal\"), layers.RandomRotation(0.1),]\n",
    ")\n",
    "\n",
    "base_model = keras.applications.Xception(\n",
    "    weights=\"imagenet\",  # Load weights pre-trained on ImageNet.\n",
    "    input_shape=train_dataset.image_shape,\n",
    "    include_top=False,\n",
    ")  # Do not include the ImageNet classifier at the top.\n",
    "\n",
    "# Freeze the base_model\n",
    "base_model.trainable = False\n",
    "\n",
    "# Create new model on top\n",
    "inputs = keras.Input(shape=train_dataset.image_shape)\n",
    "x = data_augmentation(inputs)  # Apply random data augmentation\n",
    "\n",
    "scale_layer = keras.layers.Rescaling(scale=1 / 127.5, offset=-1)\n",
    "x = scale_layer(x)\n",
    "\n",
    "x = base_model(x, training=False)\n",
    "\n",
    "x = AveragePooling2D(pool_size=(5, 5))(x)\n",
    "x = Flatten(name=\"flatten\")(x)\n",
    "x = Dense(128, activation=\"relu\")(x)\n",
    "x = Dropout(0.5)(x)# Regularize with dropout\n",
    "x = Dense(128, activation=\"relu\")(x)\n",
    "\n",
    "outputs = keras.layers.Dense(3, activation=\"sigmoid\")(x)\n",
    "model = keras.Model(inputs, outputs)\n",
    "\n",
    "model.summary()\n",
    "\n",
    "model.compile(\n",
    "    optimizer=keras.optimizers.Adam(),\n",
    "    loss='categorical_crossentropy',\n",
    "    metrics=[keras.metrics.Precision(), keras.metrics.Recall()]\n",
    ")\n",
    "\n"
   ]
  },
  {
   "cell_type": "markdown",
   "id": "0a9fcbf3-819f-4424-97e8-b26bded231f0",
   "metadata": {},
   "source": [
    "Relizar el entrenamiento"
   ]
  },
  {
   "cell_type": "code",
   "execution_count": 25,
   "id": "dyhaXTkNfVUH",
   "metadata": {
    "colab": {
     "base_uri": "https://localhost:8080/"
    },
    "execution": {
     "iopub.execute_input": "2022-07-03T06:47:07.567724Z",
     "iopub.status.busy": "2022-07-03T06:47:07.567472Z",
     "iopub.status.idle": "2022-07-03T06:55:58.926059Z",
     "shell.execute_reply": "2022-07-03T06:55:58.925117Z",
     "shell.execute_reply.started": "2022-07-03T06:47:07.567698Z"
    },
    "id": "dyhaXTkNfVUH",
    "outputId": "e5c73c9a-5a1e-49db-cfb0-069241b2eac6"
   },
   "outputs": [
    {
     "name": "stdout",
     "output_type": "stream",
     "text": [
      "Epoch 1/25\n"
     ]
    },
    {
     "name": "stderr",
     "output_type": "stream",
     "text": [
      "2022-07-03 06:47:12.607677: I tensorflow/stream_executor/cuda/cuda_dnn.cc:377] Loaded cuDNN version 8302\n"
     ]
    },
    {
     "name": "stdout",
     "output_type": "stream",
     "text": [
      "40/40 [==============================] - 30s 595ms/step - loss: 0.6151 - precision: 0.6307 - recall: 0.7800 - val_loss: 0.4950 - val_precision: 0.6199 - val_recall: 0.9017\n",
      "Epoch 2/25\n",
      "40/40 [==============================] - 21s 511ms/step - loss: 0.3948 - precision: 0.6969 - recall: 0.9039 - val_loss: 0.4304 - val_precision: 0.6747 - val_recall: 0.9351\n",
      "Epoch 3/25\n",
      "40/40 [==============================] - 20s 501ms/step - loss: 0.3388 - precision: 0.7386 - recall: 0.9245 - val_loss: 0.4631 - val_precision: 0.7055 - val_recall: 0.9109\n",
      "Epoch 4/25\n",
      "40/40 [==============================] - 20s 490ms/step - loss: 0.3395 - precision: 0.6904 - recall: 0.9388 - val_loss: 0.3728 - val_precision: 0.6406 - val_recall: 0.9592\n",
      "Epoch 5/25\n",
      "40/40 [==============================] - 20s 497ms/step - loss: 0.2684 - precision: 0.7335 - recall: 0.9531 - val_loss: 0.3179 - val_precision: 0.6662 - val_recall: 0.9629\n",
      "Epoch 6/25\n",
      "40/40 [==============================] - 20s 498ms/step - loss: 0.2965 - precision: 0.7180 - recall: 0.9547 - val_loss: 0.3065 - val_precision: 0.6448 - val_recall: 0.9666\n",
      "Epoch 7/25\n",
      "40/40 [==============================] - 20s 490ms/step - loss: 0.2601 - precision: 0.7199 - recall: 0.9674 - val_loss: 0.3137 - val_precision: 0.6868 - val_recall: 0.9685\n",
      "Epoch 8/25\n",
      "40/40 [==============================] - 20s 502ms/step - loss: 0.2226 - precision: 0.7218 - recall: 0.9809 - val_loss: 0.3162 - val_precision: 0.7070 - val_recall: 0.9536\n",
      "Epoch 9/25\n",
      "40/40 [==============================] - 20s 497ms/step - loss: 0.2402 - precision: 0.7551 - recall: 0.9698 - val_loss: 0.3027 - val_precision: 0.7337 - val_recall: 0.9610\n",
      "Epoch 10/25\n",
      "40/40 [==============================] - 20s 497ms/step - loss: 0.2218 - precision: 0.7727 - recall: 0.9666 - val_loss: 0.2307 - val_precision: 0.7695 - val_recall: 0.9722\n",
      "Epoch 11/25\n",
      "40/40 [==============================] - 20s 488ms/step - loss: 0.2221 - precision: 0.7800 - recall: 0.9603 - val_loss: 0.2460 - val_precision: 0.8000 - val_recall: 0.9573\n",
      "Epoch 12/25\n",
      "40/40 [==============================] - 20s 491ms/step - loss: 0.2195 - precision: 0.7889 - recall: 0.9706 - val_loss: 0.2475 - val_precision: 0.7855 - val_recall: 0.9647\n",
      "Epoch 13/25\n",
      "40/40 [==============================] - 20s 499ms/step - loss: 0.2006 - precision: 0.7596 - recall: 0.9786 - val_loss: 0.2300 - val_precision: 0.7336 - val_recall: 0.9759\n",
      "Epoch 14/25\n",
      "40/40 [==============================] - 21s 509ms/step - loss: 0.2224 - precision: 0.7673 - recall: 0.9770 - val_loss: 0.2512 - val_precision: 0.7576 - val_recall: 0.9685\n",
      "Epoch 15/25\n",
      "40/40 [==============================] - 20s 498ms/step - loss: 0.1908 - precision: 0.7797 - recall: 0.9786 - val_loss: 0.2489 - val_precision: 0.7359 - val_recall: 0.9666\n",
      "Epoch 16/25\n",
      "40/40 [==============================] - 20s 497ms/step - loss: 0.2043 - precision: 0.7825 - recall: 0.9746 - val_loss: 0.2200 - val_precision: 0.7598 - val_recall: 0.9740\n",
      "Epoch 17/25\n",
      "40/40 [==============================] - 20s 494ms/step - loss: 0.2082 - precision: 0.7710 - recall: 0.9682 - val_loss: 0.2009 - val_precision: 0.7794 - val_recall: 0.9833\n",
      "Epoch 18/25\n",
      "40/40 [==============================] - 20s 492ms/step - loss: 0.1723 - precision: 0.8103 - recall: 0.9666 - val_loss: 0.2198 - val_precision: 0.7788 - val_recall: 0.9666\n",
      "Epoch 19/25\n",
      "40/40 [==============================] - 20s 486ms/step - loss: 0.1920 - precision: 0.7794 - recall: 0.9682 - val_loss: 0.2169 - val_precision: 0.7180 - val_recall: 0.9777\n",
      "Epoch 20/25\n",
      "40/40 [==============================] - 20s 492ms/step - loss: 0.1725 - precision: 0.7736 - recall: 0.9746 - val_loss: 0.1974 - val_precision: 0.7554 - val_recall: 0.9796\n",
      "Epoch 21/25\n",
      "40/40 [==============================] - 20s 497ms/step - loss: 0.1758 - precision: 0.7855 - recall: 0.9714 - val_loss: 0.2762 - val_precision: 0.7696 - val_recall: 0.9481\n",
      "Epoch 22/25\n",
      "40/40 [==============================] - 20s 489ms/step - loss: 0.1838 - precision: 0.7882 - recall: 0.9666 - val_loss: 0.2514 - val_precision: 0.7401 - val_recall: 0.9666\n",
      "Epoch 23/25\n",
      "40/40 [==============================] - 20s 494ms/step - loss: 0.1497 - precision: 0.7955 - recall: 0.9825 - val_loss: 0.2376 - val_precision: 0.7624 - val_recall: 0.9703\n",
      "Epoch 24/25\n",
      "40/40 [==============================] - 20s 492ms/step - loss: 0.1758 - precision: 0.7905 - recall: 0.9738 - val_loss: 0.2307 - val_precision: 0.7518 - val_recall: 0.9666\n",
      "Epoch 25/25\n",
      "40/40 [==============================] - 20s 495ms/step - loss: 0.1526 - precision: 0.7617 - recall: 0.9849 - val_loss: 0.2018 - val_precision: 0.7801 - val_recall: 0.9740\n"
     ]
    }
   ],
   "source": [
    "model_history = model.fit(\n",
    "    train_dataset,\n",
    "    epochs=epochs,\n",
    "    validation_data=validation_dataset\n",
    ")"
   ]
  },
  {
   "cell_type": "code",
   "execution_count": 26,
   "id": "113dde0c-a28e-4cf4-98e7-806fbc05ccae",
   "metadata": {
    "execution": {
     "iopub.execute_input": "2022-07-03T06:55:58.928942Z",
     "iopub.status.busy": "2022-07-03T06:55:58.928763Z",
     "iopub.status.idle": "2022-07-03T06:55:59.140630Z",
     "shell.execute_reply": "2022-07-03T06:55:59.139791Z",
     "shell.execute_reply.started": "2022-07-03T06:55:58.928919Z"
    }
   },
   "outputs": [
    {
     "data": {
      "text/plain": [
       "<matplotlib.legend.Legend at 0x7fcce4f82100>"
      ]
     },
     "execution_count": 26,
     "metadata": {},
     "output_type": "execute_result"
    },
    {
     "data": {
      "image/png": "[encoded data removed]",
      "text/plain": [
       "<Figure size 432x288 with 1 Axes>"
      ]
     },
     "metadata": {},
     "output_type": "display_data"
    }
   ],
   "source": [
    "N = epochs\n",
    "H = model_history\n",
    "plt.style.use(\"ggplot\")\n",
    "plt.figure()\n",
    "plt.plot(np.arange(0, N), H.history[\"loss\"], label=\"train_loss\")\n",
    "plt.plot(np.arange(0, N), H.history[\"val_loss\"], label=\"val_loss\")\n",
    "plt.plot(np.arange(0, N), H.history[\"precision\"], label=\"train_precision\")\n",
    "plt.plot(np.arange(0, N), H.history[\"val_precision\"], label=\"val_precision\")\n",
    "plt.plot(np.arange(0, N), H.history[\"recall\"], label=\"train_recall\")\n",
    "plt.plot(np.arange(0, N), H.history[\"val_recall\"], label=\"val_recall\")\n",
    "plt.title(\"Training Loss and Accuracy\")\n",
    "plt.xlabel(\"Epoch #\")\n",
    "plt.ylabel(\"Loss/Accuracy\")\n",
    "plt.legend(loc=\"lower left\")"
   ]
  },
  {
   "cell_type": "code",
   "execution_count": 32,
   "id": "-Sebr3NxfVUH",
   "metadata": {
    "execution": {
     "iopub.execute_input": "2022-07-03T06:57:57.606874Z",
     "iopub.status.busy": "2022-07-03T06:57:57.606633Z",
     "iopub.status.idle": "2022-07-03T06:57:58.157653Z",
     "shell.execute_reply": "2022-07-03T06:57:58.156837Z",
     "shell.execute_reply.started": "2022-07-03T06:57:57.606850Z"
    },
    "id": "-Sebr3NxfVUH"
   },
   "outputs": [],
   "source": [
    "model.save('face_mask_cat_Xception.h5')"
   ]
  },
  {
   "cell_type": "markdown",
   "id": "1n1mTdVQpZQS",
   "metadata": {
    "id": "1n1mTdVQpZQS"
   },
   "source": [
    "Inferencia"
   ]
  },
  {
   "cell_type": "markdown",
   "id": "twTMO0oyLKlK",
   "metadata": {
    "id": "twTMO0oyLKlK"
   },
   "source": [
    "Preparamos la data para pruebas"
   ]
  },
  {
   "cell_type": "code",
   "execution_count": 33,
   "id": "Ow8QHmOdpaXI",
   "metadata": {
    "execution": {
     "iopub.execute_input": "2022-07-03T06:58:00.761747Z",
     "iopub.status.busy": "2022-07-03T06:58:00.761504Z",
     "iopub.status.idle": "2022-07-03T06:58:02.354070Z",
     "shell.execute_reply": "2022-07-03T06:58:02.353266Z",
     "shell.execute_reply.started": "2022-07-03T06:58:00.761723Z"
    },
    "id": "Ow8QHmOdpaXI"
   },
   "outputs": [],
   "source": [
    "new_model = tf.keras.models.load_model('face_mask_cat_Xception.h5')\n",
    "#new_model.summary()"
   ]
  },
  {
   "cell_type": "code",
   "execution_count": 34,
   "id": "FYxL2WXVtJTC",
   "metadata": {
    "colab": {
     "base_uri": "https://localhost:8080/"
    },
    "execution": {
     "iopub.execute_input": "2022-07-03T06:58:04.213970Z",
     "iopub.status.busy": "2022-07-03T06:58:04.213104Z",
     "iopub.status.idle": "2022-07-03T06:58:11.772516Z",
     "shell.execute_reply": "2022-07-03T06:58:11.771521Z",
     "shell.execute_reply.started": "2022-07-03T06:58:04.213927Z"
    },
    "id": "FYxL2WXVtJTC",
    "outputId": "b990a812-65e3-457a-dd8a-9eaa751b9d34"
   },
   "outputs": [
    {
     "name": "stdout",
     "output_type": "stream",
     "text": [
      "17/17 [==============================] - 7s 347ms/step - loss: 0.2026 - precision: 0.7837 - recall: 0.9814\n"
     ]
    }
   ],
   "source": [
    "evaluation = new_model.evaluate(validation_dataset)"
   ]
  },
  {
   "cell_type": "code",
   "execution_count": 35,
   "id": "K4s_5OHw6cuS",
   "metadata": {
    "execution": {
     "iopub.execute_input": "2022-07-03T07:00:11.943178Z",
     "iopub.status.busy": "2022-07-03T07:00:11.942893Z",
     "iopub.status.idle": "2022-07-03T07:00:12.796723Z",
     "shell.execute_reply": "2022-07-03T07:00:12.795940Z",
     "shell.execute_reply.started": "2022-07-03T07:00:11.943152Z"
    },
    "id": "K4s_5OHw6cuS"
   },
   "outputs": [
    {
     "data": {
      "text/plain": [
       "'incorrect_mask'"
      ]
     },
     "execution_count": 35,
     "metadata": {},
     "output_type": "execute_result"
    }
   ],
   "source": [
    "img_path = '/notebooks/SIMPLE/' + validation_dataset.filenames[5]\n",
    "image_loaded = load_img(img_path, target_size=target_size)\n",
    "image = img_to_array(image_loaded)\n",
    "image = image.reshape((1, image.shape[0], image.shape[1], image.shape[2]))\n",
    "preds = new_model.predict(image)[0]\n",
    "mask_labels[preds.argmax(axis=-1)]"
   ]
  },
  {
   "cell_type": "code",
   "execution_count": 36,
   "id": "pJhC5I808Um7",
   "metadata": {
    "colab": {
     "base_uri": "https://localhost:8080/",
     "height": 145
    },
    "execution": {
     "iopub.execute_input": "2022-07-03T07:00:14.072994Z",
     "iopub.status.busy": "2022-07-03T07:00:14.072733Z",
     "iopub.status.idle": "2022-07-03T07:00:14.081064Z",
     "shell.execute_reply": "2022-07-03T07:00:14.080186Z",
     "shell.execute_reply.started": "2022-07-03T07:00:14.072968Z"
    },
    "id": "pJhC5I808Um7",
    "outputId": "3413efb1-f949-44c4-b45d-c48722f690bc"
   },
   "outputs": [
    {
     "data": {
      "image/png": "[encoded data removed]",
      "text/plain": [
       "<PIL.Image.Image image mode=RGB size=224x224 at 0x7FCCE40B7670>"
      ]
     },
     "execution_count": 36,
     "metadata": {},
     "output_type": "execute_result"
    }
   ],
   "source": [
    "image_loaded"
   ]
  }
 ],
 "metadata": {
  "accelerator": "GPU",
  "colab": {
   "collapsed_sections": [],
   "name": "Face Mask - Keras transfer.ipynb",
   "provenance": []
  },
  "gpuClass": "standard",
  "kernelspec": {
   "display_name": "Python 3 (ipykernel)",
   "language": "python",
   "name": "python3"
  },
  "language_info": {
   "codemirror_mode": {
    "name": "ipython",
    "version": 3
   },
   "file_extension": ".py",
   "mimetype": "text/x-python",
   "name": "python",
   "nbconvert_exporter": "python",
   "pygments_lexer": "ipython3",
   "version": "3.8.10"
  },
  "papermill": {
   "default_parameters": {},
   "duration": 3429.339275,
   "end_time": "2022-06-16T02:37:32.249890",
   "environment_variables": {},
   "exception": null,
   "input_path": "__notebook__.ipynb",
   "output_path": "__notebook__.ipynb",
   "parameters": {},
   "start_time": "2022-06-16T01:40:22.910615",
   "version": "2.3.4"
  }
 },
 "nbformat": 4,
 "nbformat_minor": 5
}
