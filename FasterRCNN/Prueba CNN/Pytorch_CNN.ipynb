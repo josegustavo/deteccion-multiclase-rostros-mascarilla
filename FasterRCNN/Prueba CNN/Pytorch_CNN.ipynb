{
  "nbformat": 4,
  "nbformat_minor": 0,
  "metadata": {
    "colab": {
      "name": "Pytorch_CNN.ipynb",
      "provenance": [],
      "collapsed_sections": []
    },
    "kernelspec": {
      "name": "python3",
      "display_name": "Python 3"
    },
    "language_info": {
      "name": "python"
    },
    "accelerator": "GPU",
    "gpuClass": "standard"
  },
  "cells": [
    {
      "cell_type": "code",
      "source": [
        "!pip install albumentations==0.4.6\n",
        "import albumentations \n",
        "from albumentations.pytorch import ToTensorV2"
      ],
      "metadata": {
        "colab": {
          "base_uri": "https://localhost:8080/"
        },
        "id": "rTsk1OUPNZxU",
        "outputId": "c4812213-431a-4450-ce39-0b5ca1a715ea"
      },
      "execution_count": null,
      "outputs": [
        {
          "output_type": "stream",
          "name": "stdout",
          "text": [
            "Looking in indexes: https://pypi.org/simple, https://us-python.pkg.dev/colab-wheels/public/simple/\n",
            "Collecting albumentations==0.4.6\n",
            "  Downloading albumentations-0.4.6.tar.gz (117 kB)\n",
            "\u001b[K     |████████████████████████████████| 117 kB 32.2 MB/s \n",
            "\u001b[?25hRequirement already satisfied: numpy>=1.11.1 in /usr/local/lib/python3.7/dist-packages (from albumentations==0.4.6) (1.21.6)\n",
            "Requirement already satisfied: scipy in /usr/local/lib/python3.7/dist-packages (from albumentations==0.4.6) (1.4.1)\n",
            "Collecting imgaug>=0.4.0\n",
            "  Downloading imgaug-0.4.0-py2.py3-none-any.whl (948 kB)\n",
            "\u001b[K     |████████████████████████████████| 948 kB 59.4 MB/s \n",
            "\u001b[?25hRequirement already satisfied: PyYAML in /usr/local/lib/python3.7/dist-packages (from albumentations==0.4.6) (3.13)\n",
            "Requirement already satisfied: opencv-python>=4.1.1 in /usr/local/lib/python3.7/dist-packages (from albumentations==0.4.6) (4.1.2.30)\n",
            "Requirement already satisfied: matplotlib in /usr/local/lib/python3.7/dist-packages (from imgaug>=0.4.0->albumentations==0.4.6) (3.2.2)\n",
            "Requirement already satisfied: Shapely in /usr/local/lib/python3.7/dist-packages (from imgaug>=0.4.0->albumentations==0.4.6) (1.8.2)\n",
            "Requirement already satisfied: imageio in /usr/local/lib/python3.7/dist-packages (from imgaug>=0.4.0->albumentations==0.4.6) (2.4.1)\n",
            "Requirement already satisfied: scikit-image>=0.14.2 in /usr/local/lib/python3.7/dist-packages (from imgaug>=0.4.0->albumentations==0.4.6) (0.18.3)\n",
            "Requirement already satisfied: Pillow in /usr/local/lib/python3.7/dist-packages (from imgaug>=0.4.0->albumentations==0.4.6) (7.1.2)\n",
            "Requirement already satisfied: six in /usr/local/lib/python3.7/dist-packages (from imgaug>=0.4.0->albumentations==0.4.6) (1.15.0)\n",
            "Requirement already satisfied: PyWavelets>=1.1.1 in /usr/local/lib/python3.7/dist-packages (from scikit-image>=0.14.2->imgaug>=0.4.0->albumentations==0.4.6) (1.3.0)\n",
            "Requirement already satisfied: networkx>=2.0 in /usr/local/lib/python3.7/dist-packages (from scikit-image>=0.14.2->imgaug>=0.4.0->albumentations==0.4.6) (2.6.3)\n",
            "Requirement already satisfied: tifffile>=2019.7.26 in /usr/local/lib/python3.7/dist-packages (from scikit-image>=0.14.2->imgaug>=0.4.0->albumentations==0.4.6) (2021.11.2)\n",
            "Requirement already satisfied: pyparsing!=2.0.4,!=2.1.2,!=2.1.6,>=2.0.1 in /usr/local/lib/python3.7/dist-packages (from matplotlib->imgaug>=0.4.0->albumentations==0.4.6) (3.0.9)\n",
            "Requirement already satisfied: python-dateutil>=2.1 in /usr/local/lib/python3.7/dist-packages (from matplotlib->imgaug>=0.4.0->albumentations==0.4.6) (2.8.2)\n",
            "Requirement already satisfied: cycler>=0.10 in /usr/local/lib/python3.7/dist-packages (from matplotlib->imgaug>=0.4.0->albumentations==0.4.6) (0.11.0)\n",
            "Requirement already satisfied: kiwisolver>=1.0.1 in /usr/local/lib/python3.7/dist-packages (from matplotlib->imgaug>=0.4.0->albumentations==0.4.6) (1.4.3)\n",
            "Requirement already satisfied: typing-extensions in /usr/local/lib/python3.7/dist-packages (from kiwisolver>=1.0.1->matplotlib->imgaug>=0.4.0->albumentations==0.4.6) (4.1.1)\n",
            "Building wheels for collected packages: albumentations\n",
            "  Building wheel for albumentations (setup.py) ... \u001b[?25l\u001b[?25hdone\n",
            "  Created wheel for albumentations: filename=albumentations-0.4.6-py3-none-any.whl size=65174 sha256=ea957d3cda69994319ac73593b76fab53f8ad4d13cbebc94f4f55ddd948ad2ba\n",
            "  Stored in directory: /root/.cache/pip/wheels/cf/34/0f/cb2a5f93561a181a4bcc84847ad6aaceea8b5a3127469616cc\n",
            "Successfully built albumentations\n",
            "Installing collected packages: imgaug, albumentations\n",
            "  Attempting uninstall: imgaug\n",
            "    Found existing installation: imgaug 0.2.9\n",
            "    Uninstalling imgaug-0.2.9:\n",
            "      Successfully uninstalled imgaug-0.2.9\n",
            "  Attempting uninstall: albumentations\n",
            "    Found existing installation: albumentations 0.1.12\n",
            "    Uninstalling albumentations-0.1.12:\n",
            "      Successfully uninstalled albumentations-0.1.12\n",
            "Successfully installed albumentations-0.4.6 imgaug-0.4.0\n"
          ]
        }
      ]
    },
    {
      "cell_type": "code",
      "source": [
        "import numpy as np\n",
        "from numpy import vstack, hstack\n",
        "\n",
        "import pandas as pd\n",
        "import cv2\n",
        "import glob\n",
        "import math\n",
        "from tqdm import tqdm\n",
        "\n",
        "from torch.utils.data import Dataset, DataLoader\n",
        "\n",
        "from sklearn.utils import shuffle\n",
        "from sklearn.metrics import accuracy_score\n",
        "from sklearn.model_selection import train_test_split\n",
        "from sklearn.linear_model import LogisticRegression\n",
        "\n",
        "import matplotlib.pyplot as plt\n",
        "\n",
        "import albumentations as A\n",
        "from albumentations.pytorch import ToTensorV2\n",
        "\n",
        "import torch\n",
        "import torch.nn as nn\n",
        "import torch.cuda as tc"
      ],
      "metadata": {
        "id": "cSM3DvivNBpz"
      },
      "execution_count": null,
      "outputs": []
    },
    {
      "cell_type": "code",
      "execution_count": null,
      "metadata": {
        "id": "Nc6nOCZmIhaT"
      },
      "outputs": [],
      "source": [
        "class FaceMaskDataset(Dataset):\n",
        "    def __init__(self, path, transform=None):\n",
        "        self.transform = transform\n",
        "        sub_paths = ['with_mask/', 'without_mask/', '/incorrect_mask']\n",
        "        self.df = self.get_df(path, sub_paths)\n",
        "        \n",
        "    def get_df(self, path, sub_paths):\n",
        "        paths = list()\n",
        "        paths.extend(glob.glob(path + sub_paths[0] + \"*.jpg\"))\n",
        "        labels = [1] * len(paths)\n",
        "        paths.extend(glob.glob(path + sub_paths[1] + \"*.jpg\"))\n",
        "        labels.extend([0] * (len(paths) - len(labels)))\n",
        "        df = pd.DataFrame({ \"path\" : paths, \"label\" : labels})\n",
        "        df = shuffle(df)\n",
        "        return df\n",
        "    \n",
        "    def __len__(self):\n",
        "        return len(self.df)\n",
        "    \n",
        "    def __getitem__(self, idx):\n",
        "        image = cv2.imread(self.df.iloc[idx]['path'])\n",
        "        image = cv2.cvtColor(image, cv2.COLOR_BGR2RGB)\n",
        "        label = self.df.iloc[idx]['label']\n",
        "        \n",
        "        if self.transform:\n",
        "            image = self.transform(image=image)[\"image\"]\n",
        "        \n",
        "        return image, label"
      ]
    },
    {
      "cell_type": "code",
      "source": [
        "from google.colab import drive\n",
        "drive.mount('/content/drive')"
      ],
      "metadata": {
        "colab": {
          "base_uri": "https://localhost:8080/"
        },
        "id": "8Yaesn4sItlV",
        "outputId": "d657b482-7388-41f7-89c0-f8da73f05cdc"
      },
      "execution_count": null,
      "outputs": [
        {
          "output_type": "stream",
          "name": "stdout",
          "text": [
            "Mounted at /content/drive\n"
          ]
        }
      ]
    },
    {
      "cell_type": "code",
      "source": [
        "transform = A.Compose(\n",
        "    [\n",
        "        A.SmallestMaxSize(max_size=160),\n",
        "        A.ShiftScaleRotate(shift_limit=0.05, scale_limit=0.05, rotate_limit=15, p=0.5),\n",
        "        A.RandomCrop(height=128, width=128),\n",
        "        A.RGBShift(r_shift_limit=15, g_shift_limit=15, b_shift_limit=15, p=0.5),\n",
        "        A.RandomBrightnessContrast(p=0.0),\n",
        "        A.Normalize(mean=(0.485, 0.456, 0.406), std=(0.229, 0.224, 0.225)),\n",
        "        ToTensorV2(),\n",
        "    ]\n",
        ")"
      ],
      "metadata": {
        "id": "yZXrrtM4PP4V"
      },
      "execution_count": null,
      "outputs": []
    },
    {
      "cell_type": "code",
      "source": [
        "path = '/content/drive/MyDrive/VISIÓN ARTIFICIAL/COMPLEJO/'\n",
        "\n",
        "fmd = FaceMaskDataset(path, transform=transform)"
      ],
      "metadata": {
        "id": "YzADL1nxPFu8"
      },
      "execution_count": null,
      "outputs": []
    },
    {
      "cell_type": "code",
      "source": [
        "plt.imshow(fmd[1][0].permute(1, 2, 0))"
      ],
      "metadata": {
        "colab": {
          "base_uri": "https://localhost:8080/",
          "height": 304
        },
        "id": "8q5sJWXrPbqh",
        "outputId": "69f14243-f84d-444a-feb7-26fd947b4785"
      },
      "execution_count": null,
      "outputs": [
        {
          "output_type": "stream",
          "name": "stderr",
          "text": [
            "Clipping input data to the valid range for imshow with RGB data ([0..1] for floats or [0..255] for integers).\n"
          ]
        },
        {
          "output_type": "execute_result",
          "data": {
            "text/plain": [
              "<matplotlib.image.AxesImage at 0x7f7943df0810>"
            ]
          },
          "metadata": {},
          "execution_count": 7
        },
        {
          "output_type": "display_data",
          "data": {
            "text/plain": [
              "<Figure size 432x288 with 1 Axes>"
            ],
            "image/png": "[encoded data removed]"
          },
          "metadata": {
            "needs_background": "light"
          }
        }
      ]
    },
    {
      "cell_type": "code",
      "source": [
        "subset = torch.utils.data.Subset(fmd, np.arange(100))"
      ],
      "metadata": {
        "id": "VBQEzj9uZSP1"
      },
      "execution_count": null,
      "outputs": []
    },
    {
      "cell_type": "code",
      "source": [
        "dataloader = DataLoader(subset, batch_size=8, shuffle=True, num_workers=4)"
      ],
      "metadata": {
        "colab": {
          "base_uri": "https://localhost:8080/"
        },
        "id": "6KoUDKRcZV9t",
        "outputId": "85631c4a-a939-4a7c-bd90-6a295233bbcc"
      },
      "execution_count": null,
      "outputs": [
        {
          "output_type": "stream",
          "name": "stderr",
          "text": [
            "/usr/local/lib/python3.7/dist-packages/torch/utils/data/dataloader.py:490: UserWarning: This DataLoader will create 4 worker processes in total. Our suggested max number of worker in current system is 2, which is smaller than what this DataLoader is going to create. Please be aware that excessive worker creation might get DataLoader running slow or even freeze, lower the worker number to avoid potential slowness/freeze if necessary.\n",
            "  cpuset_checked))\n"
          ]
        }
      ]
    },
    {
      "cell_type": "markdown",
      "source": [
        "# **Implementacion**"
      ],
      "metadata": {
        "id": "7pg4rhtQZhDG"
      }
    },
    {
      "cell_type": "markdown",
      "source": [
        "*Convolutional*"
      ],
      "metadata": {
        "id": "6tS5zTcnZjqk"
      }
    },
    {
      "cell_type": "code",
      "source": [
        "class Conv:\n",
        "    def __init__(self, batch_size, channel_size, width_size, \n",
        "                 height_size, kernel_number, kernel_size=3, \n",
        "                 stride_size=1, is_input=False):\n",
        "        \n",
        "        self.batch_size = batch_size\n",
        "        self.channel_size = channel_size\n",
        "        self.width_size = width_size\n",
        "        self.height_size = height_size\n",
        "        self.kernel_number = kernel_number\n",
        "        self.kernel_size = kernel_size\n",
        "        self.stride_size = stride_size\n",
        "        self.is_input = is_input\n",
        "        \n",
        "        self.padding_size = (kernel_size - 1) // 2\n",
        "        \n",
        "        self.layer = nn.Conv2d(channel_size, kernel_number, kernel_size, stride_size,\n",
        "                               self.padding_size).cuda().type(torch.float32)\n",
        "        \n",
        "        nn.init.xavier_uniform_(self.layer.weight)\n",
        "\n",
        "        self.delta_w = 0\n",
        "        self.delta_b = 0\n",
        "\n",
        "    def forward(self, input=tc.FloatTensor(0)):\n",
        "        self.input = input\n",
        "        self.act_output = self.relu(self.layer.forward(tc.FloatTensor(self.input)))\n",
        "        return self.act_output\n",
        "\n",
        "    def relu(self, xa, derive=False):\n",
        "        # back prop\n",
        "        if derive:\n",
        "            return torch.ceil(torch.clamp(xa, min=0, max=1)).detach()\n",
        "        # forward prop\n",
        "        return torch.clamp(xa, min=0).detach()\n",
        "\n",
        "    def backward(self, next_layer_grad, lr_rate=0.001, momentum_rate=0.9):\n",
        "        self.act_output = torch.mul(next_layer_grad, self.relu(self.act_output, derive=True)).detach()\n",
        "\n",
        "        # this convolution operation for calculating gradient of weights\n",
        "        dw_layer = nn.Conv2d(self.batch_size, self.kernel_number, self.act_output.shape[2], 1,\n",
        "                             self.padding_size).cuda().type(torch.float32)\n",
        "                             \n",
        "        gradx = self.act_output.clone().detach()\n",
        "        # flipping for convolution operation\n",
        "        gradx = gradx.cpu().detach().numpy()[:, :, ::-1, ::-1]                 \n",
        "        # set weight and bias with 0  with activation gradient\n",
        "        dw_layer.weight.data = tc.FloatTensor(gradx.copy()).transpose(0, 1).detach()\n",
        "        del gradx\n",
        "        dw_layer.bias.data = tc.FloatTensor(np.zeros(self.kernel_number)).detach()\n",
        "                             \n",
        "        # momentum update\n",
        "        self.delta_w = momentum_rate * self.delta_w + (\n",
        "                dw_layer.forward(self.input.transpose(0, 1)).transpose(0, 1).detach() / (self.batch_size)).detach()\n",
        "        self.delta_b = momentum_rate * self.delta_b + (torch.sum(self.act_output, dim=[0, 2, 3]).detach() / (\n",
        "                self.act_output.shape[0] * self.batch_size * self.act_output.shape[2] * self.act_output.shape[\n",
        "            3])).detach()\n",
        "                             \n",
        "        # weight and bias update\n",
        "        self.layer.weight.data -= lr_rate * self.delta_w.detach()\n",
        "        self.layer.bias.data -= lr_rate * self.delta_b.detach()\n",
        "\n",
        "        # if it is not input that initially given model then calculate input gradient as well\n",
        "        if (self.is_input == False):\n",
        "            # convolution operation for calculating input gradient\n",
        "            dx_layer = nn.Conv2d(self.kernel_number, self.channel_size, self.kernel_size, self.stride_size,\n",
        "                                 self.padding_size).cuda().type(torch.float32)\n",
        "            # get weight from conv layer\n",
        "            temp_weight = self.layer.weight.data.clone().cpu().numpy()\n",
        "            # flip kernel for convolution operation\n",
        "            temp_weightx = temp_weight[:, :, ::-1, ::-1]\n",
        "            #set weight with flipped kernel\n",
        "            dx_layer.weight.data = tc.FloatTensor(temp_weightx.copy()).transpose(0, 1).detach()\n",
        "            #set bias with zero\n",
        "            dx_layer.bias.data = tc.FloatTensor(np.zeros(self.channel_size)).detach()\n",
        "            #input gradient\n",
        "            out = dx_layer.forward(self.act_output)\n",
        "\n",
        "            del temp_weight\n",
        "            del temp_weightx\n",
        "\n",
        "            return out\n",
        "        else:\n",
        "            #return input itself\n",
        "            # del self.act_output\n",
        "            return self.input"
      ],
      "metadata": {
        "id": "_ukGW6LPZdxO"
      },
      "execution_count": null,
      "outputs": []
    },
    {
      "cell_type": "markdown",
      "source": [
        "*MaxPooling*"
      ],
      "metadata": {
        "id": "YmJlAtGNZ0aS"
      }
    },
    {
      "cell_type": "code",
      "source": [
        "class MaxPooling:\n",
        "    def __init__(self, kernel_size=2, stride_size=2):\n",
        "        self.kernel_size = kernel_size\n",
        "        self.stride_size = stride_size\n",
        "        self.layer = nn.MaxPool2d(self.kernel_size, self.stride_size, return_indices=True).cuda().type(torch.float32)\n",
        "\n",
        "    def forward(self, input=tc.FloatTensor(0)):\n",
        "        self.input = input.detach()\n",
        "        self.output, self.indices = self.layer.forward(self.input)\n",
        "        return self.output\n",
        "\n",
        "    def backward(self, next_layer_grad):\n",
        "        #unpool operation for back propagation\n",
        "        back_layer = nn.MaxUnpool2d(self.kernel_size, self.stride_size).cuda().type(torch.float32)\n",
        "        #output of backpropagation\n",
        "        out = back_layer.forward(next_layer_grad, self.indices, output_size=self.input.shape).type(\n",
        "            torch.float32).detach()\n",
        "        del back_layer\n",
        "\n",
        "        return out"
      ],
      "metadata": {
        "id": "xBpBYjaBZ2TC"
      },
      "execution_count": null,
      "outputs": []
    },
    {
      "cell_type": "markdown",
      "source": [
        "*Dense*"
      ],
      "metadata": {
        "id": "53_wdh0SZ8NF"
      }
    },
    {
      "cell_type": "code",
      "source": [
        "class Dense:\n",
        "    def __init__(self, batch_size, input_size, dense_number, is_input=False):\n",
        "        self.batch_size = batch_size\n",
        "        self.input_size = input_size\n",
        "        self.dense_number = dense_number\n",
        "        self.is_input = is_input\n",
        "        #initialize weights and biases\n",
        "        self.weight = tc.FloatTensor(\n",
        "            np.random.normal(size=(self.input_size, self.dense_number), loc=0, scale=0.01).astype(np.float32)).type(\n",
        "            torch.float32).detach()\n",
        "        self.bias = tc.FloatTensor(np.zeros((1, dense_number))).type(torch.float32).detach()\n",
        "        #momentum terms\n",
        "        self.delta_w = 0\n",
        "        self.delta_b = 0\n",
        "\n",
        "    def forward(self, input=tc.FloatTensor(0).detach()):\n",
        "        self.input = input.detach()\n",
        "        self.act_output = self.relu(torch.mm(self.input, self.weight) + self.bias).detach()\n",
        "        return self.act_output\n",
        "\n",
        "    def relu(self, xa, derive=False):\n",
        "        # back prop\n",
        "        if derive:\n",
        "            return torch.ceil(torch.clamp(xa, min=0, max=1)).detach()\n",
        "        # forward prop\n",
        "        return torch.clamp(xa, min=0).detach()\n",
        "\n",
        "    def backward(self, next_layer_grad, lr_rate=0.001, momentum_rate=0.9):\n",
        "        #find gradient activation functions\n",
        "        self.act_output = torch.mul(next_layer_grad, self.relu(self.act_output, derive=True)).type(\n",
        "            torch.float32).detach()\n",
        "        #find momentum terms\n",
        "        self.delta_w = momentum_rate * self.delta_w + (\n",
        "                torch.mm(self.input.transpose(0, 1), self.act_output).detach() / self.batch_size).detach()\n",
        "        self.delta_b = momentum_rate * self.delta_b + (\n",
        "                torch.sum(self.act_output, dim=0, keepdim=True).detach() / self.batch_size).detach()\n",
        "        #update weight and bias\n",
        "        self.weight -= lr_rate * self.delta_w.detach()\n",
        "        self.bias -= lr_rate * self.delta_b.detach()\n",
        "        #check whether input is data, if it is not, then find input gradient\n",
        "        if self.is_input == False:\n",
        "            #gradient operation for input\n",
        "            out = torch.mm(self.act_output, self.weight.transpose(0, 1)).type(torch.float32).detach()\n",
        "            return out\n",
        "        else:\n",
        "            #return input itself\n",
        "            return self.input"
      ],
      "metadata": {
        "id": "A97p6ZcpZ9JU"
      },
      "execution_count": null,
      "outputs": []
    },
    {
      "cell_type": "markdown",
      "source": [
        "*Flatten*"
      ],
      "metadata": {
        "id": "9bgz27IjaADc"
      }
    },
    {
      "cell_type": "code",
      "source": [
        "class Flatten:\n",
        "    def forward(self, input=tc.FloatTensor(0).detach()):\n",
        "        self.input = input.detach()\n",
        "        self.batch_size = self.input.shape[0]\n",
        "        self.channel_size = self.input.shape[1]\n",
        "        self.width = self.input.shape[2]\n",
        "        self.height = self.input.shape[3]\n",
        "\n",
        "        self.output = self.input.view(self.batch_size, -1).detach()\n",
        "        return self.output\n",
        "\n",
        "    def backward(self, next_layer_grad):\n",
        "        return next_layer_grad.view(self.batch_size, self.channel_size, self.width, self.height).detach()"
      ],
      "metadata": {
        "id": "ODAg8_ViaFbP"
      },
      "execution_count": null,
      "outputs": []
    },
    {
      "cell_type": "markdown",
      "source": [
        "*Dropout*"
      ],
      "metadata": {
        "id": "Vy2tlzXNaI48"
      }
    },
    {
      "cell_type": "code",
      "source": [
        "class Dropout:\n",
        "    def __init__(self, dropout):\n",
        "        self.dropout = dropout\n",
        "\n",
        "    def forward(self, input):\n",
        "        self.input = input.detach()\n",
        "        self.dropout_matrix = tc.FloatTensor(np.zeros(self.input.shape)).detach()\n",
        "        #create mask\n",
        "        self.dropout_matrix = tc.FloatTensor(\n",
        "            np.random.binomial(1, 1 - self.dropout, size=self.input.shape)).expand_as(\n",
        "            self.input).detach()\n",
        "        #apply mask\n",
        "        self.output = torch.mul(self.input, self.dropout_matrix).detach() / (1 - self.dropout + np.exp(-32))\n",
        "        return self.output\n",
        "\n",
        "    def backward(self, next_layer_grad):\n",
        "        return torch.mul(next_layer_grad, self.dropout_matrix).detach() / (1 - self.dropout + np.exp(-32))"
      ],
      "metadata": {
        "id": "x8fhNAYtaLjH"
      },
      "execution_count": null,
      "outputs": []
    },
    {
      "cell_type": "markdown",
      "source": [
        "*Output*"
      ],
      "metadata": {
        "id": "uHD6UiFwaP8J"
      }
    },
    {
      "cell_type": "code",
      "source": [
        "class Output:\n",
        "    def __init__(self, class_number):\n",
        "        self.class_number = class_number\n",
        "        self.y = None\n",
        "\n",
        "    def forward(self, input=tc.FloatTensor(0).detach(), target=tc.FloatTensor(0).detach()):\n",
        "        self.input = input.detach()\n",
        "        self.target = target\n",
        "        self.output, self.loss = self.softmax_with_cross_entropy(self.input, self.target)\n",
        "        return self.loss\n",
        "\n",
        "    def softmax_with_cross_entropy(self, x, target, derive=False):\n",
        "        #softmax\n",
        "        self.y = torch.eye(self.class_number)[tc.FloatTensor(target).type(torch.long).view(-1).detach(), :].cuda().type(\n",
        "            torch.float32)\n",
        "        \n",
        "        if derive == True:\n",
        "            return x - self.y\n",
        "\n",
        "        maximum = torch.max(x, dim=1, keepdim=True)[0].detach()\n",
        "        self.pred = torch.exp(x - maximum).detach()\n",
        "        self.pred = self.pred.detach() / torch.sum(self.pred, 1, keepdim=True).detach()\n",
        "        #categorical cross entropy\n",
        "        self.loss = -torch.sum(self.y * torch.log(self.pred + np.exp(-32))).type(torch.float32).detach() / \\\n",
        "                    self.pred.shape[0]\n",
        "\n",
        "        return self.pred, self.loss\n",
        "\n",
        "    def backward(self, output, y):\n",
        "        return self.softmax_with_cross_entropy(output, y, derive=True)"
      ],
      "metadata": {
        "id": "0oAM5RUvaQ6P"
      },
      "execution_count": null,
      "outputs": []
    },
    {
      "cell_type": "markdown",
      "source": [
        "*Sigmoid*"
      ],
      "metadata": {
        "id": "p1Ef7b9TaT-d"
      }
    },
    {
      "cell_type": "code",
      "source": [
        "class Sigmoid():\n",
        "    def forward(self, input):\n",
        "        return torch.sigmoid(input)\n",
        "    \n",
        "    def backward(self, output):\n",
        "        sigmoid = self.forward(output)\n",
        "        return sigmoid * (1 - sigmoid)"
      ],
      "metadata": {
        "id": "rpIvb-_raV-o"
      },
      "execution_count": null,
      "outputs": []
    },
    {
      "cell_type": "markdown",
      "source": [
        "*ReLU*"
      ],
      "metadata": {
        "id": "ojJMq1LoaaZG"
      }
    },
    {
      "cell_type": "code",
      "source": [
        "class ReLU():\n",
        "    def forward(self, input):\n",
        "        return torch.clamp(input, min=0).detach()\n",
        "    \n",
        "    def backward(self, output):\n",
        "        return torch.ceil(torch.clamp(output, min=0, max=1)).detach()"
      ],
      "metadata": {
        "id": "fIJedT2maZ9Y"
      },
      "execution_count": null,
      "outputs": []
    },
    {
      "cell_type": "markdown",
      "source": [
        "# **Modelo**"
      ],
      "metadata": {
        "id": "adPJ8KedagJv"
      }
    },
    {
      "cell_type": "code",
      "source": [
        "images, labels = next(iter(dataloader))\n",
        "images = images.cuda()\n",
        "labels = labels.cuda().type(torch.cuda.FloatTensor)\n",
        "print(images.shape, labels.shape)"
      ],
      "metadata": {
        "colab": {
          "base_uri": "https://localhost:8080/"
        },
        "id": "iNZyydZ8aitT",
        "outputId": "71c5786d-b6f5-4495-d6b1-0f6f1ff9fba0"
      },
      "execution_count": null,
      "outputs": [
        {
          "output_type": "stream",
          "name": "stderr",
          "text": [
            "/usr/local/lib/python3.7/dist-packages/torch/utils/data/dataloader.py:490: UserWarning: This DataLoader will create 4 worker processes in total. Our suggested max number of worker in current system is 2, which is smaller than what this DataLoader is going to create. Please be aware that excessive worker creation might get DataLoader running slow or even freeze, lower the worker number to avoid potential slowness/freeze if necessary.\n",
            "  cpuset_checked))\n"
          ]
        },
        {
          "output_type": "stream",
          "name": "stdout",
          "text": [
            "torch.Size([8, 3, 128, 128]) torch.Size([8])\n"
          ]
        }
      ]
    },
    {
      "cell_type": "code",
      "source": [
        "def init_model():\n",
        "    model = []\n",
        "    model.append(Conv(batch_size=32, channel_size=3, width_size=128, \n",
        "                      height_size=128, kernel_number=64, is_input=True))\n",
        "    model.append(MaxPooling())\n",
        "    model.append(Conv(batch_size=32, channel_size=64, width_size=64, \n",
        "                      height_size=64, kernel_number=128))\n",
        "    model.append(MaxPooling())\n",
        "    model.append(Flatten())\n",
        "    model.append(Dropout(dropout=0.5))\n",
        "    model.append(Dense(batch_size=32, input_size=131072, dense_number=64))\n",
        "    model.append(ReLU())\n",
        "    model.append(Dense(batch_size=32, input_size=64, dense_number=2))\n",
        "    return model"
      ],
      "metadata": {
        "id": "Ih_TLesMaxH0"
      },
      "execution_count": null,
      "outputs": []
    },
    {
      "cell_type": "markdown",
      "source": [
        "# **Entrenamiento**"
      ],
      "metadata": {
        "id": "dAoPCPxRa7CF"
      }
    },
    {
      "cell_type": "code",
      "source": [
        "def forward(images, model):\n",
        "    out = images\n",
        "    for m in model:\n",
        "        out = m.forward(out)\n",
        "    return out"
      ],
      "metadata": {
        "id": "k7vBpqeBa8aL"
      },
      "execution_count": null,
      "outputs": []
    },
    {
      "cell_type": "code",
      "source": [
        "epochs = 101\n",
        "output = Output(class_number=2)\n",
        "losses = np.zeros((epochs, 1))\n",
        "\n",
        "k_fold = 3\n",
        "nr = math.ceil(len(fmd) / 10)\n",
        "indices = np.arange(len(fmd))\n",
        "\n",
        "epoch_loss = np.zeros((k_fold, epochs))\n",
        "epoch_accuracy = np.zeros((k_fold, epochs))\n",
        "\n",
        "models = [init_model(), init_model(), init_model()]\n",
        "\n",
        "for fold in range(k_fold):\n",
        "\n",
        "    fmd.df = shuffle(fmd.df)\n",
        "    subset = torch.utils.data.Subset(fmd, indices[fold * nr: nr * (fold + 1)])\n",
        "    dataloader = DataLoader(subset, batch_size=32, shuffle=True, num_workers=4)\n",
        "\n",
        "    valid_idx = int(len(dataloader) * 0.8)\n",
        "\n",
        "    for epoch in range(epochs):\n",
        "        \n",
        "        valid_out = []\n",
        "        valid_target = []\n",
        "        \n",
        "        losses = []\n",
        "        \n",
        "        for i, (images, labels) in enumerate(dataloader):\n",
        "            images = images.cuda()\n",
        "            labels = labels.cuda().type(torch.cuda.FloatTensor)\n",
        "\n",
        "            # forward\n",
        "            out = forward(images, models[fold])\n",
        "\n",
        "            # training\n",
        "            if(i <= valid_idx):\n",
        "\n",
        "                loss = output.forward(out, labels.cuda())\n",
        "                losses.append(loss)\n",
        "\n",
        "                # backward\n",
        "                deriv = output.backward(out, labels)\n",
        "                for m in reversed(models[fold]):\n",
        "                    deriv = m.backward(deriv)\n",
        "\n",
        "            # validation\n",
        "            else:\n",
        "                valid_out.append(out)\n",
        "                valid_target.append(labels)\n",
        "\n",
        "                if((i + 1) == len(dataloader)):\n",
        "                    total_acc = 0\n",
        "                    for i, valid in enumerate(valid_out):\n",
        "                        valids = torch.argmax(valid, dim=1)\n",
        "                        total_acc += np.sum(valid_target[i].cpu().numpy() ==\n",
        "                                            valids.cpu().numpy())\n",
        "\n",
        "                    epoch_loss[fold][epoch] = sum(losses)/len(losses)\n",
        "                    epoch_accuracy[fold][epoch] = total_acc / (32 * len(valid_target))\n",
        "\n",
        "                    if(epoch % 25 == 0):\n",
        "                        print(\"Fold:{:4d}, Epoch:{:4d}, Loss:{:1.3f}, Acc:{:1.3f}\"\n",
        "                              .format(fold, epoch, epoch_loss[fold][epoch], \n",
        "                                      epoch_accuracy[fold][epoch]))"
      ],
      "metadata": {
        "colab": {
          "base_uri": "https://localhost:8080/"
        },
        "id": "6UgI_AV_bBvO",
        "outputId": "0aa51326-322b-45a8-ac8e-167f93e4e26d"
      },
      "execution_count": null,
      "outputs": [
        {
          "metadata": {
            "tags": null
          },
          "name": "stderr",
          "output_type": "stream",
          "text": [
            "/usr/local/lib/python3.7/dist-packages/torch/utils/data/dataloader.py:490: UserWarning: This DataLoader will create 4 worker processes in total. Our suggested max number of worker in current system is 2, which is smaller than what this DataLoader is going to create. Please be aware that excessive worker creation might get DataLoader running slow or even freeze, lower the worker number to avoid potential slowness/freeze if necessary.\n",
            "  cpuset_checked))\n",
            "/usr/local/lib/python3.7/dist-packages/torch/nn/functional.py:749: UserWarning: Note that order of the arguments: ceil_mode and return_indices will changeto match the args list in nn.MaxPool2d in a future release.\n",
            "  warnings.warn(\"Note that order of the arguments: ceil_mode and return_indices will change\"\n"
          ]
        },
        {
          "output_type": "stream",
          "name": "stdout",
          "text": [
            "Fold:   0, Epoch:   0, Loss:0.693, Acc:0.525\n",
            "Fold:   0, Epoch:  25, Loss:0.688, Acc:0.544\n",
            "Fold:   0, Epoch:  50, Loss:0.688, Acc:0.550\n",
            "Fold:   0, Epoch:  75, Loss:0.687, Acc:0.525\n",
            "Fold:   0, Epoch: 100, Loss:0.685, Acc:0.463\n",
            "Fold:   1, Epoch:   0, Loss:0.692, Acc:0.550\n",
            "Fold:   1, Epoch:  25, Loss:0.681, Acc:0.519\n",
            "Fold:   1, Epoch:  50, Loss:0.684, Acc:0.575\n",
            "Fold:   1, Epoch:  75, Loss:0.684, Acc:0.575\n",
            "Fold:   2, Epoch:   0, Loss:0.693, Acc:0.544\n"
          ]
        }
      ]
    },
    {
      "cell_type": "markdown",
      "source": [
        "# **Analisis**"
      ],
      "metadata": {
        "id": "Ek0JRtrgbLNU"
      }
    },
    {
      "cell_type": "code",
      "source": [
        "fig, axes = plt.subplots(nrows=1, ncols=3, figsize=(10, 4))\n",
        "axes[0].plot(np.arange(len(epoch_accuracy[0])), epoch_accuracy[0])\n",
        "axes[1].plot(np.arange(len(epoch_accuracy[1])), epoch_accuracy[1])\n",
        "axes[2].plot(np.arange(len(epoch_accuracy[2])), epoch_accuracy[2])\n",
        "fig.tight_layout()"
      ],
      "metadata": {
        "colab": {
          "base_uri": "https://localhost:8080/",
          "height": 297
        },
        "id": "Xz5X0ID5bMI2",
        "outputId": "779b0593-38e3-43f5-9564-98ac39b368f0"
      },
      "execution_count": null,
      "outputs": [
        {
          "output_type": "display_data",
          "data": {
            "text/plain": [
              "<Figure size 720x288 with 3 Axes>"
            ],
            "image/png": "[encoded data removed]"
          },
          "metadata": {
            "needs_background": "light"
          }
        }
      ]
    },
    {
      "cell_type": "markdown",
      "source": [
        "# **Conjunto**"
      ],
      "metadata": {
        "id": "_bgeQfz1bPn_"
      }
    },
    {
      "cell_type": "code",
      "source": [
        "dataloader = DataLoader(fmd, batch_size=len(fmd), shuffle=True, num_workers=4)\n",
        "images, labels = next(iter(dataloader))"
      ],
      "metadata": {
        "colab": {
          "base_uri": "https://localhost:8080/"
        },
        "id": "-WQMoaBVbQnA",
        "outputId": "989d8f50-2dea-476d-9381-6b16012522aa"
      },
      "execution_count": null,
      "outputs": [
        {
          "output_type": "stream",
          "name": "stderr",
          "text": [
            "/usr/local/lib/python3.7/dist-packages/torch/utils/data/dataloader.py:490: UserWarning: This DataLoader will create 4 worker processes in total. Our suggested max number of worker in current system is 2, which is smaller than what this DataLoader is going to create. Please be aware that excessive worker creation might get DataLoader running slow or even freeze, lower the worker number to avoid potential slowness/freeze if necessary.\n",
            "  cpuset_checked))\n"
          ]
        }
      ]
    },
    {
      "cell_type": "code",
      "source": [
        "X_train, X_test, y_train, y_test = train_test_split(images, labels, test_size=0.3)"
      ],
      "metadata": {
        "id": "cTN4PXNMbTGo"
      },
      "execution_count": null,
      "outputs": []
    },
    {
      "cell_type": "code",
      "source": [
        "def get_ensemble(x, models):\n",
        "    meta_X = list()\n",
        "    for i, X in tqdm(enumerate(x)):\n",
        "        outs = list()\n",
        "        for m in models:\n",
        "            out = forward(X.unsqueeze(0).cuda(), m)\n",
        "            outs.extend(out.cpu())\n",
        "        meta_X.append(hstack(outs))\n",
        "    return meta_X"
      ],
      "metadata": {
        "id": "YKtnztX2bYxr"
      },
      "execution_count": null,
      "outputs": []
    },
    {
      "cell_type": "code",
      "source": [
        "meta_train = get_ensemble(X_train, models)\n",
        "meta_test = get_ensemble(X_test, models)"
      ],
      "metadata": {
        "colab": {
          "base_uri": "https://localhost:8080/"
        },
        "id": "UrdWJHu3bZTa",
        "outputId": "e3412de7-5f83-4ef7-b52d-a672741b00b6"
      },
      "execution_count": null,
      "outputs": [
        {
          "output_type": "stream",
          "name": "stderr",
          "text": [
            "0it [00:00, ?it/s]/usr/local/lib/python3.7/dist-packages/torch/nn/functional.py:749: UserWarning: Note that order of the arguments: ceil_mode and return_indices will changeto match the args list in nn.MaxPool2d in a future release.\n",
            "  warnings.warn(\"Note that order of the arguments: ceil_mode and return_indices will change\"\n",
            "827it [00:12, 68.55it/s]\n",
            "355it [00:05, 68.84it/s]\n"
          ]
        }
      ]
    },
    {
      "cell_type": "code",
      "source": [
        "# Train ensemble\n",
        "model = LogisticRegression(solver='liblinear')\n",
        "model.fit(meta_train, y_train)\n",
        "\n",
        "# Get accuracy\n",
        "yhat = model.predict(meta_train)\n",
        "acc = accuracy_score(y_train, yhat)\n",
        "print(\"Final Accuracy:{:1.3f}\".format(acc))"
      ],
      "metadata": {
        "colab": {
          "base_uri": "https://localhost:8080/"
        },
        "id": "ttGeQPsBbcHn",
        "outputId": "80df9bd2-33a6-4256-be97-957df4a471c5"
      },
      "execution_count": null,
      "outputs": [
        {
          "output_type": "stream",
          "name": "stdout",
          "text": [
            "Final Accuracy:0.510\n"
          ]
        }
      ]
    }
  ]
}